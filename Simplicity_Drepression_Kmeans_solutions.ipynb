{
 "cells": [
  {
   "cell_type": "markdown",
   "id": "a27512ea",
   "metadata": {},
   "source": [
    "#### Objective:\n",
    "To determine if there is a relationship between higher levels of black and white thinking and higher levels of self-reported depression in psychiatric patients hospitalized for depression.Also apply K means clustering and assign groups for model prediction\n",
    "\n",
    "Context:\n",
    "It is common for people who tend to think of their reality as a series of black and white events to suffer from depression. Psybersquare, Inc. describes a few examples of this way of thinking by saying that those who suffer from this way of thinking think that, \"If things aren't 'perfect,' then they must be \"horrible.\" If your child isn't \"brilliant\" then he must be 'stupid.' If you're not 'fascinating' then you must be 'boring.'\" This can be a difficult way to live since those suffering from this way of thinking may never feel that their reality is “good enough”.\n",
    "\n",
    "Data Sources:\n",
    "The data used for this study is from the Ginzberg data frame which is based on psychiatric patients hospitalized for depression. Data is from the book Applied Regression Analysis and Generalized Linear Models, Second Edition by Fox, J. (2008). The dataset includes three variables - simplicity (black and white thinking), fatalism, and depression. The data also includes these variables each adjusted by regression for other variables thought to influence depression. For the purposes of this study, we will use the non-adjusted values. Ginzberg Dataset on Depression display_output(Ginzberg, out_type) simplicity fatalism depression adjsimp adjfatal adjdep\n",
    "\n",
    "Here, \"Black and white thinking\" is referred as \"Simplicity\""
   ]
  },
  {
   "cell_type": "raw",
   "id": "d4874674",
   "metadata": {},
   "source": [
    "Import the Libraries "
   ]
  },
  {
   "cell_type": "code",
   "execution_count": 1,
   "id": "f75787c2",
   "metadata": {},
   "outputs": [],
   "source": [
    "import numpy as np\n",
    "import pandas as pd \n",
    "import matplotlib.pyplot as plt \n",
    "import seaborn as sns\n",
    "from sklearn.cluster import KMeans \n",
    "from sklearn.metrics import silhouette_score"
   ]
  },
  {
   "cell_type": "code",
   "execution_count": 2,
   "id": "b5ca17e3",
   "metadata": {},
   "outputs": [
    {
     "data": {
      "text/html": [
       "<div>\n",
       "<style scoped>\n",
       "    .dataframe tbody tr th:only-of-type {\n",
       "        vertical-align: middle;\n",
       "    }\n",
       "\n",
       "    .dataframe tbody tr th {\n",
       "        vertical-align: top;\n",
       "    }\n",
       "\n",
       "    .dataframe thead th {\n",
       "        text-align: right;\n",
       "    }\n",
       "</style>\n",
       "<table border=\"1\" class=\"dataframe\">\n",
       "  <thead>\n",
       "    <tr style=\"text-align: right;\">\n",
       "      <th></th>\n",
       "      <th>id</th>\n",
       "      <th>simplicity</th>\n",
       "      <th>fatalism</th>\n",
       "      <th>depression</th>\n",
       "      <th>adjsimp</th>\n",
       "      <th>adjfatal</th>\n",
       "      <th>adjdep</th>\n",
       "    </tr>\n",
       "  </thead>\n",
       "  <tbody>\n",
       "    <tr>\n",
       "      <th>0</th>\n",
       "      <td>1</td>\n",
       "      <td>0.92983</td>\n",
       "      <td>0.35589</td>\n",
       "      <td>0.59870</td>\n",
       "      <td>0.75934</td>\n",
       "      <td>0.10673</td>\n",
       "      <td>0.41865</td>\n",
       "    </tr>\n",
       "    <tr>\n",
       "      <th>1</th>\n",
       "      <td>2</td>\n",
       "      <td>0.91097</td>\n",
       "      <td>1.18439</td>\n",
       "      <td>0.72787</td>\n",
       "      <td>0.72717</td>\n",
       "      <td>0.99915</td>\n",
       "      <td>0.51688</td>\n",
       "    </tr>\n",
       "    <tr>\n",
       "      <th>2</th>\n",
       "      <td>3</td>\n",
       "      <td>0.53366</td>\n",
       "      <td>-0.05837</td>\n",
       "      <td>0.53411</td>\n",
       "      <td>0.62176</td>\n",
       "      <td>0.03811</td>\n",
       "      <td>0.70699</td>\n",
       "    </tr>\n",
       "    <tr>\n",
       "      <th>3</th>\n",
       "      <td>4</td>\n",
       "      <td>0.74118</td>\n",
       "      <td>0.35589</td>\n",
       "      <td>0.56641</td>\n",
       "      <td>0.83522</td>\n",
       "      <td>0.42218</td>\n",
       "      <td>0.65639</td>\n",
       "    </tr>\n",
       "    <tr>\n",
       "      <th>4</th>\n",
       "      <td>5</td>\n",
       "      <td>0.53366</td>\n",
       "      <td>0.77014</td>\n",
       "      <td>0.50182</td>\n",
       "      <td>0.47697</td>\n",
       "      <td>0.81423</td>\n",
       "      <td>0.53518</td>\n",
       "    </tr>\n",
       "  </tbody>\n",
       "</table>\n",
       "</div>"
      ],
      "text/plain": [
       "   id  simplicity  fatalism  depression  adjsimp  adjfatal   adjdep\n",
       "0   1     0.92983   0.35589     0.59870  0.75934   0.10673  0.41865\n",
       "1   2     0.91097   1.18439     0.72787  0.72717   0.99915  0.51688\n",
       "2   3     0.53366  -0.05837     0.53411  0.62176   0.03811  0.70699\n",
       "3   4     0.74118   0.35589     0.56641  0.83522   0.42218  0.65639\n",
       "4   5     0.53366   0.77014     0.50182  0.47697   0.81423  0.53518"
      ]
     },
     "execution_count": 2,
     "metadata": {},
     "output_type": "execute_result"
    }
   ],
   "source": [
    "data=pd.read_csv('Depression.csv')\n",
    "data.head()"
   ]
  },
  {
   "cell_type": "code",
   "execution_count": 3,
   "id": "0cfd8783",
   "metadata": {},
   "outputs": [
    {
     "data": {
      "text/html": [
       "<div>\n",
       "<style scoped>\n",
       "    .dataframe tbody tr th:only-of-type {\n",
       "        vertical-align: middle;\n",
       "    }\n",
       "\n",
       "    .dataframe tbody tr th {\n",
       "        vertical-align: top;\n",
       "    }\n",
       "\n",
       "    .dataframe thead th {\n",
       "        text-align: right;\n",
       "    }\n",
       "</style>\n",
       "<table border=\"1\" class=\"dataframe\">\n",
       "  <thead>\n",
       "    <tr style=\"text-align: right;\">\n",
       "      <th></th>\n",
       "      <th>id</th>\n",
       "      <th>simplicity</th>\n",
       "      <th>fatalism</th>\n",
       "      <th>depression</th>\n",
       "      <th>adjsimp</th>\n",
       "      <th>adjfatal</th>\n",
       "      <th>adjdep</th>\n",
       "    </tr>\n",
       "  </thead>\n",
       "  <tbody>\n",
       "    <tr>\n",
       "      <th>23</th>\n",
       "      <td>24</td>\n",
       "      <td>0.74118</td>\n",
       "      <td>0.56301</td>\n",
       "      <td>0.66329</td>\n",
       "      <td>0.83522</td>\n",
       "      <td>0.65564</td>\n",
       "      <td>0.76227</td>\n",
       "    </tr>\n",
       "    <tr>\n",
       "      <th>19</th>\n",
       "      <td>20</td>\n",
       "      <td>0.38274</td>\n",
       "      <td>0.56301</td>\n",
       "      <td>0.56641</td>\n",
       "      <td>0.55240</td>\n",
       "      <td>0.73050</td>\n",
       "      <td>0.70702</td>\n",
       "    </tr>\n",
       "    <tr>\n",
       "      <th>17</th>\n",
       "      <td>18</td>\n",
       "      <td>0.83550</td>\n",
       "      <td>1.18439</td>\n",
       "      <td>0.56641</td>\n",
       "      <td>1.23164</td>\n",
       "      <td>1.67146</td>\n",
       "      <td>0.92942</td>\n",
       "    </tr>\n",
       "    <tr>\n",
       "      <th>80</th>\n",
       "      <td>81</td>\n",
       "      <td>1.42033</td>\n",
       "      <td>1.18439</td>\n",
       "      <td>1.47061</td>\n",
       "      <td>1.31493</td>\n",
       "      <td>1.04058</td>\n",
       "      <td>1.37153</td>\n",
       "    </tr>\n",
       "    <tr>\n",
       "      <th>27</th>\n",
       "      <td>28</td>\n",
       "      <td>0.57139</td>\n",
       "      <td>0.35589</td>\n",
       "      <td>0.50182</td>\n",
       "      <td>0.75529</td>\n",
       "      <td>0.45561</td>\n",
       "      <td>0.59349</td>\n",
       "    </tr>\n",
       "  </tbody>\n",
       "</table>\n",
       "</div>"
      ],
      "text/plain": [
       "    id  simplicity  fatalism  depression  adjsimp  adjfatal   adjdep\n",
       "23  24     0.74118   0.56301     0.66329  0.83522   0.65564  0.76227\n",
       "19  20     0.38274   0.56301     0.56641  0.55240   0.73050  0.70702\n",
       "17  18     0.83550   1.18439     0.56641  1.23164   1.67146  0.92942\n",
       "80  81     1.42033   1.18439     1.47061  1.31493   1.04058  1.37153\n",
       "27  28     0.57139   0.35589     0.50182  0.75529   0.45561  0.59349"
      ]
     },
     "execution_count": 3,
     "metadata": {},
     "output_type": "execute_result"
    }
   ],
   "source": [
    "data.sample(5)"
   ]
  },
  {
   "cell_type": "code",
   "execution_count": 4,
   "id": "4ad7969b",
   "metadata": {},
   "outputs": [
    {
     "data": {
      "text/html": [
       "<div>\n",
       "<style scoped>\n",
       "    .dataframe tbody tr th:only-of-type {\n",
       "        vertical-align: middle;\n",
       "    }\n",
       "\n",
       "    .dataframe tbody tr th {\n",
       "        vertical-align: top;\n",
       "    }\n",
       "\n",
       "    .dataframe thead th {\n",
       "        text-align: right;\n",
       "    }\n",
       "</style>\n",
       "<table border=\"1\" class=\"dataframe\">\n",
       "  <thead>\n",
       "    <tr style=\"text-align: right;\">\n",
       "      <th></th>\n",
       "      <th>id</th>\n",
       "      <th>simplicity</th>\n",
       "      <th>fatalism</th>\n",
       "      <th>depression</th>\n",
       "      <th>adjsimp</th>\n",
       "      <th>adjfatal</th>\n",
       "      <th>adjdep</th>\n",
       "    </tr>\n",
       "  </thead>\n",
       "  <tbody>\n",
       "    <tr>\n",
       "      <th>77</th>\n",
       "      <td>78</td>\n",
       "      <td>1.04302</td>\n",
       "      <td>1.80577</td>\n",
       "      <td>1.47061</td>\n",
       "      <td>0.72117</td>\n",
       "      <td>1.50039</td>\n",
       "      <td>1.14913</td>\n",
       "    </tr>\n",
       "    <tr>\n",
       "      <th>78</th>\n",
       "      <td>79</td>\n",
       "      <td>1.79763</td>\n",
       "      <td>2.22003</td>\n",
       "      <td>1.40603</td>\n",
       "      <td>1.59752</td>\n",
       "      <td>2.05016</td>\n",
       "      <td>1.16443</td>\n",
       "    </tr>\n",
       "    <tr>\n",
       "      <th>79</th>\n",
       "      <td>80</td>\n",
       "      <td>2.11834</td>\n",
       "      <td>0.77014</td>\n",
       "      <td>2.01960</td>\n",
       "      <td>2.39515</td>\n",
       "      <td>0.88910</td>\n",
       "      <td>2.24452</td>\n",
       "    </tr>\n",
       "    <tr>\n",
       "      <th>80</th>\n",
       "      <td>81</td>\n",
       "      <td>1.42033</td>\n",
       "      <td>1.18439</td>\n",
       "      <td>1.47061</td>\n",
       "      <td>1.31493</td>\n",
       "      <td>1.04058</td>\n",
       "      <td>1.37153</td>\n",
       "    </tr>\n",
       "    <tr>\n",
       "      <th>81</th>\n",
       "      <td>82</td>\n",
       "      <td>0.98643</td>\n",
       "      <td>1.18439</td>\n",
       "      <td>1.56749</td>\n",
       "      <td>0.97903</td>\n",
       "      <td>1.23973</td>\n",
       "      <td>1.65687</td>\n",
       "    </tr>\n",
       "  </tbody>\n",
       "</table>\n",
       "</div>"
      ],
      "text/plain": [
       "    id  simplicity  fatalism  depression  adjsimp  adjfatal   adjdep\n",
       "77  78     1.04302   1.80577     1.47061  0.72117   1.50039  1.14913\n",
       "78  79     1.79763   2.22003     1.40603  1.59752   2.05016  1.16443\n",
       "79  80     2.11834   0.77014     2.01960  2.39515   0.88910  2.24452\n",
       "80  81     1.42033   1.18439     1.47061  1.31493   1.04058  1.37153\n",
       "81  82     0.98643   1.18439     1.56749  0.97903   1.23973  1.65687"
      ]
     },
     "execution_count": 4,
     "metadata": {},
     "output_type": "execute_result"
    }
   ],
   "source": [
    "data.tail()"
   ]
  },
  {
   "cell_type": "code",
   "execution_count": 5,
   "id": "540e53b7",
   "metadata": {},
   "outputs": [
    {
     "data": {
      "text/plain": [
       "(82, 7)"
      ]
     },
     "execution_count": 5,
     "metadata": {},
     "output_type": "execute_result"
    }
   ],
   "source": [
    "data.shape"
   ]
  },
  {
   "cell_type": "code",
   "execution_count": 6,
   "id": "c5d3d6c2",
   "metadata": {},
   "outputs": [
    {
     "data": {
      "text/plain": [
       "id            0\n",
       "simplicity    0\n",
       "fatalism      0\n",
       "depression    0\n",
       "adjsimp       0\n",
       "adjfatal      0\n",
       "adjdep        0\n",
       "dtype: int64"
      ]
     },
     "execution_count": 6,
     "metadata": {},
     "output_type": "execute_result"
    }
   ],
   "source": [
    "data.isna().sum()"
   ]
  },
  {
   "cell_type": "code",
   "execution_count": 7,
   "id": "2242cefe",
   "metadata": {},
   "outputs": [
    {
     "name": "stdout",
     "output_type": "stream",
     "text": [
      "<class 'pandas.core.frame.DataFrame'>\n",
      "RangeIndex: 82 entries, 0 to 81\n",
      "Data columns (total 7 columns):\n",
      " #   Column      Non-Null Count  Dtype  \n",
      "---  ------      --------------  -----  \n",
      " 0   id          82 non-null     int64  \n",
      " 1   simplicity  82 non-null     float64\n",
      " 2   fatalism    82 non-null     float64\n",
      " 3   depression  82 non-null     float64\n",
      " 4   adjsimp     82 non-null     float64\n",
      " 5   adjfatal    82 non-null     float64\n",
      " 6   adjdep      82 non-null     float64\n",
      "dtypes: float64(6), int64(1)\n",
      "memory usage: 4.6 KB\n"
     ]
    }
   ],
   "source": [
    "data.info()"
   ]
  },
  {
   "cell_type": "code",
   "execution_count": 8,
   "id": "1981fae7",
   "metadata": {},
   "outputs": [],
   "source": [
    "data=data.drop('id',1)"
   ]
  },
  {
   "cell_type": "code",
   "execution_count": 11,
   "id": "9245f120",
   "metadata": {},
   "outputs": [],
   "source": [
    "from scipy.stats import zscore"
   ]
  },
  {
   "cell_type": "code",
   "execution_count": 13,
   "id": "889c8cd1",
   "metadata": {},
   "outputs": [],
   "source": [
    "scaled_data=data.apply(zscore)"
   ]
  },
  {
   "cell_type": "code",
   "execution_count": 26,
   "id": "0bf9c590",
   "metadata": {},
   "outputs": [
    {
     "name": "stderr",
     "output_type": "stream",
     "text": [
      "E:\\Anacondafiles\\lib\\site-packages\\sklearn\\cluster\\_kmeans.py:881: UserWarning: KMeans is known to have a memory leak on Windows with MKL, when there are less chunks than available threads. You can avoid it by setting the environment variable OMP_NUM_THREADS=1.\n",
      "  warnings.warn(\n"
     ]
    }
   ],
   "source": [
    "mcss=[]\n",
    "for i in range(1,10):\n",
    "    km=KMeans(n_clusters=i)\n",
    "    km.fit(scaled_data)\n",
    "    mcss.append(km.inertia_)"
   ]
  },
  {
   "cell_type": "code",
   "execution_count": 22,
   "id": "c1ae22a7",
   "metadata": {},
   "outputs": [
    {
     "data": {
      "text/plain": [
       "Text(0, 0.5, 'Distance')"
      ]
     },
     "execution_count": 22,
     "metadata": {},
     "output_type": "execute_result"
    },
    {
     "data": {
      "image/png": "[encoded data removed]",
      "text/plain": [
       "<Figure size 432x288 with 1 Axes>"
      ]
     },
     "metadata": {
      "needs_background": "light"
     },
     "output_type": "display_data"
    }
   ],
   "source": [
    "plt.plot(range(1,10),mcss,marker=\"*\")\n",
    "plt.xlabel('K')\n",
    "plt.ylabel('Distance')"
   ]
  },
  {
   "cell_type": "code",
   "execution_count": 40,
   "id": "5beac152",
   "metadata": {},
   "outputs": [
    {
     "data": {
      "text/plain": [
       "0.32372520339820604"
      ]
     },
     "execution_count": 40,
     "metadata": {},
     "output_type": "execute_result"
    }
   ],
   "source": [
    "km=KMeans(3)\n",
    "km.fit(scaled_data)\n",
    "silhouette_score(scaled_data,km.labels_)"
   ]
  },
  {
   "cell_type": "code",
   "execution_count": 33,
   "id": "6db43396",
   "metadata": {},
   "outputs": [
    {
     "data": {
      "text/plain": [
       "0.29348714384260627"
      ]
     },
     "execution_count": 33,
     "metadata": {},
     "output_type": "execute_result"
    }
   ],
   "source": [
    "km=KMeans(4)\n",
    "km.fit(scaled_data)\n",
    "silhouette_score(scaled_data,km.labels_)"
   ]
  },
  {
   "cell_type": "code",
   "execution_count": 34,
   "id": "aad0dcd7",
   "metadata": {},
   "outputs": [
    {
     "data": {
      "text/plain": [
       "0.2632952556868625"
      ]
     },
     "execution_count": 34,
     "metadata": {},
     "output_type": "execute_result"
    }
   ],
   "source": [
    "km=KMeans(5)\n",
    "km.fit(scaled_data)\n",
    "silhouette_score(scaled_data,km.labels_)"
   ]
  },
  {
   "cell_type": "code",
   "execution_count": 35,
   "id": "be217726",
   "metadata": {},
   "outputs": [
    {
     "data": {
      "text/plain": [
       "0.23797539125028677"
      ]
     },
     "execution_count": 35,
     "metadata": {},
     "output_type": "execute_result"
    }
   ],
   "source": [
    "km=KMeans(6)\n",
    "km.fit(scaled_data)\n",
    "silhouette_score(scaled_data,km.labels_)"
   ]
  },
  {
   "cell_type": "code",
   "execution_count": 43,
   "id": "0556df49",
   "metadata": {},
   "outputs": [],
   "source": [
    "km=KMeans(3)\n",
    "km.fit(scaled_data)\n",
    "labels=km.labels_"
   ]
  },
  {
   "cell_type": "code",
   "execution_count": 51,
   "id": "41ee3aef",
   "metadata": {},
   "outputs": [],
   "source": [
    "data['Groups']=labels"
   ]
  },
  {
   "cell_type": "code",
   "execution_count": 63,
   "id": "cf3df3cd",
   "metadata": {},
   "outputs": [
    {
     "data": {
      "text/plain": [
       "[<matplotlib.lines.Line2D at 0x1ac0619b790>]"
      ]
     },
     "execution_count": 63,
     "metadata": {},
     "output_type": "execute_result"
    },
    {
     "data": {
      "image/png": "[encoded data removed]",
      "text/plain": [
       "<Figure size 1080x720 with 1 Axes>"
      ]
     },
     "metadata": {},
     "output_type": "display_data"
    }
   ],
   "source": [
    "plt.scatter(data['simplicity'],data['depression'],c=data['Groups'])\n",
    "z=np.polyfit(data['simplicity'],data['depression'],1)\n",
    "p=np.poly1d(z)\n",
    "plt.plot(data['simplicity'],p(data['simplicity']))"
   ]
  },
  {
   "cell_type": "code",
   "execution_count": 64,
   "id": "d4cc8fdc",
   "metadata": {},
   "outputs": [
    {
     "data": {
      "text/html": [
       "<div>\n",
       "<style scoped>\n",
       "    .dataframe tbody tr th:only-of-type {\n",
       "        vertical-align: middle;\n",
       "    }\n",
       "\n",
       "    .dataframe tbody tr th {\n",
       "        vertical-align: top;\n",
       "    }\n",
       "\n",
       "    .dataframe thead th {\n",
       "        text-align: right;\n",
       "    }\n",
       "</style>\n",
       "<table border=\"1\" class=\"dataframe\">\n",
       "  <thead>\n",
       "    <tr style=\"text-align: right;\">\n",
       "      <th></th>\n",
       "      <th>simplicity</th>\n",
       "      <th>fatalism</th>\n",
       "      <th>depression</th>\n",
       "      <th>adjsimp</th>\n",
       "      <th>adjfatal</th>\n",
       "      <th>adjdep</th>\n",
       "      <th>Groups</th>\n",
       "    </tr>\n",
       "  </thead>\n",
       "  <tbody>\n",
       "    <tr>\n",
       "      <th>0</th>\n",
       "      <td>0.92983</td>\n",
       "      <td>0.35589</td>\n",
       "      <td>0.59870</td>\n",
       "      <td>0.75934</td>\n",
       "      <td>0.10673</td>\n",
       "      <td>0.41865</td>\n",
       "      <td>2</td>\n",
       "    </tr>\n",
       "    <tr>\n",
       "      <th>1</th>\n",
       "      <td>0.91097</td>\n",
       "      <td>1.18439</td>\n",
       "      <td>0.72787</td>\n",
       "      <td>0.72717</td>\n",
       "      <td>0.99915</td>\n",
       "      <td>0.51688</td>\n",
       "      <td>2</td>\n",
       "    </tr>\n",
       "    <tr>\n",
       "      <th>2</th>\n",
       "      <td>0.53366</td>\n",
       "      <td>-0.05837</td>\n",
       "      <td>0.53411</td>\n",
       "      <td>0.62176</td>\n",
       "      <td>0.03811</td>\n",
       "      <td>0.70699</td>\n",
       "      <td>2</td>\n",
       "    </tr>\n",
       "    <tr>\n",
       "      <th>3</th>\n",
       "      <td>0.74118</td>\n",
       "      <td>0.35589</td>\n",
       "      <td>0.56641</td>\n",
       "      <td>0.83522</td>\n",
       "      <td>0.42218</td>\n",
       "      <td>0.65639</td>\n",
       "      <td>2</td>\n",
       "    </tr>\n",
       "    <tr>\n",
       "      <th>4</th>\n",
       "      <td>0.53366</td>\n",
       "      <td>0.77014</td>\n",
       "      <td>0.50182</td>\n",
       "      <td>0.47697</td>\n",
       "      <td>0.81423</td>\n",
       "      <td>0.53518</td>\n",
       "      <td>2</td>\n",
       "    </tr>\n",
       "    <tr>\n",
       "      <th>...</th>\n",
       "      <td>...</td>\n",
       "      <td>...</td>\n",
       "      <td>...</td>\n",
       "      <td>...</td>\n",
       "      <td>...</td>\n",
       "      <td>...</td>\n",
       "      <td>...</td>\n",
       "    </tr>\n",
       "    <tr>\n",
       "      <th>77</th>\n",
       "      <td>1.04302</td>\n",
       "      <td>1.80577</td>\n",
       "      <td>1.47061</td>\n",
       "      <td>0.72117</td>\n",
       "      <td>1.50039</td>\n",
       "      <td>1.14913</td>\n",
       "      <td>0</td>\n",
       "    </tr>\n",
       "    <tr>\n",
       "      <th>78</th>\n",
       "      <td>1.79763</td>\n",
       "      <td>2.22003</td>\n",
       "      <td>1.40603</td>\n",
       "      <td>1.59752</td>\n",
       "      <td>2.05016</td>\n",
       "      <td>1.16443</td>\n",
       "      <td>1</td>\n",
       "    </tr>\n",
       "    <tr>\n",
       "      <th>79</th>\n",
       "      <td>2.11834</td>\n",
       "      <td>0.77014</td>\n",
       "      <td>2.01960</td>\n",
       "      <td>2.39515</td>\n",
       "      <td>0.88910</td>\n",
       "      <td>2.24452</td>\n",
       "      <td>1</td>\n",
       "    </tr>\n",
       "    <tr>\n",
       "      <th>80</th>\n",
       "      <td>1.42033</td>\n",
       "      <td>1.18439</td>\n",
       "      <td>1.47061</td>\n",
       "      <td>1.31493</td>\n",
       "      <td>1.04058</td>\n",
       "      <td>1.37153</td>\n",
       "      <td>0</td>\n",
       "    </tr>\n",
       "    <tr>\n",
       "      <th>81</th>\n",
       "      <td>0.98643</td>\n",
       "      <td>1.18439</td>\n",
       "      <td>1.56749</td>\n",
       "      <td>0.97903</td>\n",
       "      <td>1.23973</td>\n",
       "      <td>1.65687</td>\n",
       "      <td>0</td>\n",
       "    </tr>\n",
       "  </tbody>\n",
       "</table>\n",
       "<p>82 rows × 7 columns</p>\n",
       "</div>"
      ],
      "text/plain": [
       "    simplicity  fatalism  depression  adjsimp  adjfatal   adjdep  Groups\n",
       "0      0.92983   0.35589     0.59870  0.75934   0.10673  0.41865       2\n",
       "1      0.91097   1.18439     0.72787  0.72717   0.99915  0.51688       2\n",
       "2      0.53366  -0.05837     0.53411  0.62176   0.03811  0.70699       2\n",
       "3      0.74118   0.35589     0.56641  0.83522   0.42218  0.65639       2\n",
       "4      0.53366   0.77014     0.50182  0.47697   0.81423  0.53518       2\n",
       "..         ...       ...         ...      ...       ...      ...     ...\n",
       "77     1.04302   1.80577     1.47061  0.72117   1.50039  1.14913       0\n",
       "78     1.79763   2.22003     1.40603  1.59752   2.05016  1.16443       1\n",
       "79     2.11834   0.77014     2.01960  2.39515   0.88910  2.24452       1\n",
       "80     1.42033   1.18439     1.47061  1.31493   1.04058  1.37153       0\n",
       "81     0.98643   1.18439     1.56749  0.97903   1.23973  1.65687       0\n",
       "\n",
       "[82 rows x 7 columns]"
      ]
     },
     "execution_count": 64,
     "metadata": {},
     "output_type": "execute_result"
    }
   ],
   "source": [
    "data"
   ]
  },
  {
   "cell_type": "code",
   "execution_count": null,
   "id": "3eee81a7",
   "metadata": {},
   "outputs": [],
   "source": []
  },
  {
   "cell_type": "code",
   "execution_count": 60,
   "id": "b849b844",
   "metadata": {},
   "outputs": [
    {
     "data": {
      "text/plain": [
       "array([[<AxesSubplot:title={'center':'adjdep'}, xlabel='[Groups]'>,\n",
       "        <AxesSubplot:title={'center':'adjfatal'}, xlabel='[Groups]'>],\n",
       "       [<AxesSubplot:title={'center':'adjsimp'}, xlabel='[Groups]'>,\n",
       "        <AxesSubplot:title={'center':'depression'}, xlabel='[Groups]'>],\n",
       "       [<AxesSubplot:title={'center':'fatalism'}, xlabel='[Groups]'>,\n",
       "        <AxesSubplot:title={'center':'simplicity'}, xlabel='[Groups]'>]],\n",
       "      dtype=object)"
      ]
     },
     "execution_count": 60,
     "metadata": {},
     "output_type": "execute_result"
    },
    {
     "data": {
      "image/png": "[encoded data removed]",
      "text/plain": [
       "<Figure size 1080x720 with 6 Axes>"
      ]
     },
     "metadata": {},
     "output_type": "display_data"
    }
   ],
   "source": [
    "sns.set(rc={'figure.figsize':(15,10)})\n",
    "data.boxplot(by=['Groups'])"
   ]
  },
  {
   "cell_type": "code",
   "execution_count": null,
   "id": "74c08a2b",
   "metadata": {},
   "outputs": [],
   "source": [
    "d"
   ]
  }
 ],
 "metadata": {
  "kernelspec": {
   "display_name": "Python 3",
   "language": "python",
   "name": "python3"
  },
  "language_info": {
   "codemirror_mode": {
    "name": "ipython",
    "version": 3
   },
   "file_extension": ".py",
   "mimetype": "text/x-python",
   "name": "python",
   "nbconvert_exporter": "python",
   "pygments_lexer": "ipython3",
   "version": "3.8.8"
  }
 },
 "nbformat": 4,
 "nbformat_minor": 5
}
